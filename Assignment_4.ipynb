{
 "cells": [
  {
   "cell_type": "raw",
   "id": "72c2d8e7-3bba-4e56-a85d-5644ad7cdc51",
   "metadata": {},
   "source": [
    "Q1. Create a python program to sort the given list of tuples based on integer value using a lambda function. \n",
    "[('Sachin Tendulkar', 34357), ('Ricky Ponting', 27483), ('Jack Kallis', 25534), ('Virat Kohli', 24936)]"
   ]
  },
  {
   "cell_type": "code",
   "execution_count": 16,
   "id": "d19198c0-bdc3-4f84-81c1-40c39dd75350",
   "metadata": {},
   "outputs": [
    {
     "name": "stdout",
     "output_type": "stream",
     "text": [
      "[('Virat Kohli', 24936), ('Jack Kallis', 25534), ('Ricky Ponting', 27483), ('Sachin Tendulkar', 34357)]\n"
     ]
    }
   ],
   "source": [
    "l = [('Sachin Tendulkar', 34357), ('Ricky Ponting', 27483), ('Jack Kallis', 25534), ('Virat Kohli', 24936)]\n",
    "\n",
    "a = lambda x:x[1]\n",
    "l.sort(key = a)\n",
    "print(l)"
   ]
  },
  {
   "cell_type": "raw",
   "id": "fa398ecb-ed7f-4224-b4de-0dc55c7a1e49",
   "metadata": {},
   "source": [
    "Q2. Write a Python Program to find the squares of all the numbers in the given list of integers using lambda and map functions.\n",
    "[1, 2, 3, 4, 5, 6, 7, 8, 9, 10]"
   ]
  },
  {
   "cell_type": "code",
   "execution_count": 18,
   "id": "53a06d8d-8004-44e9-80a6-f0cf2c18b7bf",
   "metadata": {},
   "outputs": [
    {
     "name": "stdout",
     "output_type": "stream",
     "text": [
      "[1, 4, 9, 16, 25, 36, 49, 64, 81, 100]\n"
     ]
    }
   ],
   "source": [
    "l = [1, 2, 3, 4, 5, 6, 7, 8, 9, 10]\n",
    "sq = list(map(lambda x:x*x, l ))\n",
    "print(sq)"
   ]
  },
  {
   "cell_type": "raw",
   "id": "e9809762-aae1-46b5-b585-204383fd9142",
   "metadata": {},
   "source": [
    "Q3. Write a python program to convert the given list of integers into a tuple of strings. Use map and lambda functions.\n",
    "Given String: [1, 2, 3, 4, 5, 6, 7, 8, 9, 10]\n",
    "Expected output: ('1', '2', '3', '4', '5', '6', '7', '8', '9', '10')"
   ]
  },
  {
   "cell_type": "code",
   "execution_count": 19,
   "id": "68b650b7-4105-4928-af2a-e0ba35db2460",
   "metadata": {},
   "outputs": [
    {
     "name": "stdout",
     "output_type": "stream",
     "text": [
      "('1', '2', '3', '4', '5', '6', '7', '8', '9', '10')\n"
     ]
    }
   ],
   "source": [
    "Giv=[1, 2, 3, 4, 5, 6, 7, 8, 9, 10]\n",
    "a = tuple(map(lambda x:str(x), Giv))\n",
    "print(a)"
   ]
  },
  {
   "cell_type": "raw",
   "id": "ce8a7e34-46b3-4b15-baf0-558ba93ad8c3",
   "metadata": {},
   "source": [
    "Q4.  Write a python program using reduce function to compute the product of a list containing numbers from 1 to 25."
   ]
  },
  {
   "cell_type": "code",
   "execution_count": 3,
   "id": "86b05f23-4274-4fe8-a566-5a12a5432552",
   "metadata": {},
   "outputs": [
    {
     "name": "stdout",
     "output_type": "stream",
     "text": [
      "15511210043330985984000000\n"
     ]
    }
   ],
   "source": [
    "from functools import reduce\n",
    "list1 = [1,2,3,4,5,6,7,8,9,10,11,12,13,14,15,16,17,18,19,20,21,22,23,24,25]\n",
    "product = reduce (lambda x,y:x*y , list1)\n",
    "print(product)"
   ]
  },
  {
   "cell_type": "raw",
   "id": "84ac84ef-80c4-440f-9b7f-499062db3764",
   "metadata": {},
   "source": [
    "Q5. Write a python program to filter the numbers in a given list that are divisible by 2 and 3 using the filter function.\n",
    "[2, 3, 6, 9, 27, 60, 90, 120, 55, 46]"
   ]
  },
  {
   "cell_type": "code",
   "execution_count": 7,
   "id": "3df93bea-9305-455c-b091-ebaa4218dcfd",
   "metadata": {},
   "outputs": [
    {
     "name": "stdout",
     "output_type": "stream",
     "text": [
      "[2, 6, 60, 90, 120, 46]\n"
     ]
    }
   ],
   "source": [
    "list2 = [2, 3, 6, 9, 27, 60, 90, 120, 55, 46]\n",
    "t = list(filter(lambda x:x%2==0 & x%3==0, list2))\n",
    "print(t)"
   ]
  },
  {
   "cell_type": "raw",
   "id": "fd6c2d9d-6f63-4547-aa33-2e2df2f87585",
   "metadata": {},
   "source": [
    "Q6. Write a python program to find palindromes in the given list of strings using lambda and filter function.\n",
    "['python', 'php', 'aba', 'radar', 'level']"
   ]
  },
  {
   "cell_type": "code",
   "execution_count": 7,
   "id": "e34a494e-f69b-433c-bede-0de816a2c67b",
   "metadata": {},
   "outputs": [
    {
     "name": "stdout",
     "output_type": "stream",
     "text": [
      "Pallindromes are: ['php', 'aba', 'radar', 'level']\n"
     ]
    }
   ],
   "source": [
    "list_str = ['python', 'php', 'aba', 'radar', 'level']\n",
    "q = list(filter(lambda x:(x==''.join(reversed(x))), list_str))\n",
    "print(f\"Pallindromes are: {q}\")"
   ]
  },
  {
   "cell_type": "code",
   "execution_count": null,
   "id": "2bf7fa2a-28f1-4529-a562-ee462998b5ea",
   "metadata": {},
   "outputs": [],
   "source": []
  }
 ],
 "metadata": {
  "kernelspec": {
   "display_name": "Python 3 (ipykernel)",
   "language": "python",
   "name": "python3"
  },
  "language_info": {
   "codemirror_mode": {
    "name": "ipython",
    "version": 3
   },
   "file_extension": ".py",
   "mimetype": "text/x-python",
   "name": "python",
   "nbconvert_exporter": "python",
   "pygments_lexer": "ipython3",
   "version": "3.10.8"
  }
 },
 "nbformat": 4,
 "nbformat_minor": 5
}
